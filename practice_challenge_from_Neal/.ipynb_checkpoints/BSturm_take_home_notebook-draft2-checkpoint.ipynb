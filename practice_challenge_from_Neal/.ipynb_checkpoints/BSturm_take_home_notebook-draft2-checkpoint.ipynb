{
 "cells": [
  {
   "cell_type": "markdown",
   "metadata": {},
   "source": [
    "# Take home challenge notebook\n",
    "\n",
    "### Predicting the winning player"
   ]
  },
  {
   "cell_type": "markdown",
   "metadata": {},
   "source": [
    "First let's import some standard libraries we will likely need."
   ]
  },
  {
   "cell_type": "code",
   "execution_count": 1,
   "metadata": {},
   "outputs": [],
   "source": [
    "import numpy as np\n",
    "import pandas as pd\n",
    "import matplotlib.pyplot as plt\n",
    "\n",
    "%matplotlib inline"
   ]
  },
  {
   "cell_type": "markdown",
   "metadata": {},
   "source": [
    "Now let's import the data and do some EDA."
   ]
  },
  {
   "cell_type": "code",
   "execution_count": 2,
   "metadata": {},
   "outputs": [],
   "source": [
    "player_df = pd.read_csv('dataset.csv')"
   ]
  },
  {
   "cell_type": "code",
   "execution_count": 3,
   "metadata": {},
   "outputs": [
    {
     "data": {
      "text/html": [
       "<div>\n",
       "<style scoped>\n",
       "    .dataframe tbody tr th:only-of-type {\n",
       "        vertical-align: middle;\n",
       "    }\n",
       "\n",
       "    .dataframe tbody tr th {\n",
       "        vertical-align: top;\n",
       "    }\n",
       "\n",
       "    .dataframe thead th {\n",
       "        text-align: right;\n",
       "    }\n",
       "</style>\n",
       "<table border=\"1\" class=\"dataframe\">\n",
       "  <thead>\n",
       "    <tr style=\"text-align: right;\">\n",
       "      <th></th>\n",
       "      <th>Unnamed: 0</th>\n",
       "      <th>player1_id</th>\n",
       "      <th>player2_id</th>\n",
       "      <th>player1_skill</th>\n",
       "      <th>player2_skill</th>\n",
       "      <th>winner_id</th>\n",
       "    </tr>\n",
       "  </thead>\n",
       "  <tbody>\n",
       "    <tr>\n",
       "      <th>0</th>\n",
       "      <td>0</td>\n",
       "      <td>1066</td>\n",
       "      <td>414</td>\n",
       "      <td>128.0</td>\n",
       "      <td>178.8</td>\n",
       "      <td>1066.0</td>\n",
       "    </tr>\n",
       "    <tr>\n",
       "      <th>1</th>\n",
       "      <td>1</td>\n",
       "      <td>304</td>\n",
       "      <td>893</td>\n",
       "      <td>182.6</td>\n",
       "      <td>148.0</td>\n",
       "      <td>893.0</td>\n",
       "    </tr>\n",
       "    <tr>\n",
       "      <th>2</th>\n",
       "      <td>2</td>\n",
       "      <td>544</td>\n",
       "      <td>893</td>\n",
       "      <td>210.4</td>\n",
       "      <td>148.0</td>\n",
       "      <td>544.0</td>\n",
       "    </tr>\n",
       "    <tr>\n",
       "      <th>3</th>\n",
       "      <td>3</td>\n",
       "      <td>1158</td>\n",
       "      <td>1011</td>\n",
       "      <td>168.0</td>\n",
       "      <td>207.6</td>\n",
       "      <td>1011.0</td>\n",
       "    </tr>\n",
       "    <tr>\n",
       "      <th>4</th>\n",
       "      <td>4</td>\n",
       "      <td>22</td>\n",
       "      <td>154</td>\n",
       "      <td>288.6</td>\n",
       "      <td>231.4</td>\n",
       "      <td>154.0</td>\n",
       "    </tr>\n",
       "  </tbody>\n",
       "</table>\n",
       "</div>"
      ],
      "text/plain": [
       "   Unnamed: 0  player1_id  player2_id  player1_skill  player2_skill  winner_id\n",
       "0           0        1066         414          128.0          178.8     1066.0\n",
       "1           1         304         893          182.6          148.0      893.0\n",
       "2           2         544         893          210.4          148.0      544.0\n",
       "3           3        1158        1011          168.0          207.6     1011.0\n",
       "4           4          22         154          288.6          231.4      154.0"
      ]
     },
     "execution_count": 3,
     "metadata": {},
     "output_type": "execute_result"
    }
   ],
   "source": [
    "player_df.head()"
   ]
  },
  {
   "cell_type": "code",
   "execution_count": 4,
   "metadata": {},
   "outputs": [
    {
     "data": {
      "text/html": [
       "<div>\n",
       "<style scoped>\n",
       "    .dataframe tbody tr th:only-of-type {\n",
       "        vertical-align: middle;\n",
       "    }\n",
       "\n",
       "    .dataframe tbody tr th {\n",
       "        vertical-align: top;\n",
       "    }\n",
       "\n",
       "    .dataframe thead th {\n",
       "        text-align: right;\n",
       "    }\n",
       "</style>\n",
       "<table border=\"1\" class=\"dataframe\">\n",
       "  <thead>\n",
       "    <tr style=\"text-align: right;\">\n",
       "      <th></th>\n",
       "      <th>Unnamed: 0</th>\n",
       "      <th>player1_id</th>\n",
       "      <th>player2_id</th>\n",
       "      <th>player1_skill</th>\n",
       "      <th>player2_skill</th>\n",
       "      <th>winner_id</th>\n",
       "    </tr>\n",
       "  </thead>\n",
       "  <tbody>\n",
       "    <tr>\n",
       "      <th>2115</th>\n",
       "      <td>2115</td>\n",
       "      <td>671</td>\n",
       "      <td>231</td>\n",
       "      <td>264.4</td>\n",
       "      <td>269.2</td>\n",
       "      <td>671.0</td>\n",
       "    </tr>\n",
       "    <tr>\n",
       "      <th>2116</th>\n",
       "      <td>2116</td>\n",
       "      <td>1114</td>\n",
       "      <td>155</td>\n",
       "      <td>201.8</td>\n",
       "      <td>300.4</td>\n",
       "      <td>1114.0</td>\n",
       "    </tr>\n",
       "    <tr>\n",
       "      <th>2117</th>\n",
       "      <td>2117</td>\n",
       "      <td>1114</td>\n",
       "      <td>155</td>\n",
       "      <td>201.8</td>\n",
       "      <td>300.4</td>\n",
       "      <td>1114.0</td>\n",
       "    </tr>\n",
       "    <tr>\n",
       "      <th>2118</th>\n",
       "      <td>2118</td>\n",
       "      <td>1114</td>\n",
       "      <td>231</td>\n",
       "      <td>201.8</td>\n",
       "      <td>279.0</td>\n",
       "      <td>231.0</td>\n",
       "    </tr>\n",
       "    <tr>\n",
       "      <th>2119</th>\n",
       "      <td>2119</td>\n",
       "      <td>366</td>\n",
       "      <td>631</td>\n",
       "      <td>261.4</td>\n",
       "      <td>282.8</td>\n",
       "      <td>366.0</td>\n",
       "    </tr>\n",
       "  </tbody>\n",
       "</table>\n",
       "</div>"
      ],
      "text/plain": [
       "      Unnamed: 0  player1_id  player2_id  player1_skill  player2_skill  \\\n",
       "2115        2115         671         231          264.4          269.2   \n",
       "2116        2116        1114         155          201.8          300.4   \n",
       "2117        2117        1114         155          201.8          300.4   \n",
       "2118        2118        1114         231          201.8          279.0   \n",
       "2119        2119         366         631          261.4          282.8   \n",
       "\n",
       "      winner_id  \n",
       "2115      671.0  \n",
       "2116     1114.0  \n",
       "2117     1114.0  \n",
       "2118      231.0  \n",
       "2119      366.0  "
      ]
     },
     "execution_count": 4,
     "metadata": {},
     "output_type": "execute_result"
    }
   ],
   "source": [
    "player_df.tail()"
   ]
  },
  {
   "cell_type": "markdown",
   "metadata": {},
   "source": [
    "The column 'Unnamed: 0' corresponds to the index, so we can drop that"
   ]
  },
  {
   "cell_type": "code",
   "execution_count": 5,
   "metadata": {},
   "outputs": [
    {
     "data": {
      "text/plain": [
       "'Unnamed: 0'"
      ]
     },
     "execution_count": 5,
     "metadata": {},
     "output_type": "execute_result"
    }
   ],
   "source": [
    "player_df.columns[0]"
   ]
  },
  {
   "cell_type": "code",
   "execution_count": 6,
   "metadata": {},
   "outputs": [],
   "source": [
    "player_df.drop(player_df.columns[0],axis=1,inplace=True)"
   ]
  },
  {
   "cell_type": "code",
   "execution_count": 7,
   "metadata": {},
   "outputs": [
    {
     "data": {
      "text/html": [
       "<div>\n",
       "<style scoped>\n",
       "    .dataframe tbody tr th:only-of-type {\n",
       "        vertical-align: middle;\n",
       "    }\n",
       "\n",
       "    .dataframe tbody tr th {\n",
       "        vertical-align: top;\n",
       "    }\n",
       "\n",
       "    .dataframe thead th {\n",
       "        text-align: right;\n",
       "    }\n",
       "</style>\n",
       "<table border=\"1\" class=\"dataframe\">\n",
       "  <thead>\n",
       "    <tr style=\"text-align: right;\">\n",
       "      <th></th>\n",
       "      <th>player1_id</th>\n",
       "      <th>player2_id</th>\n",
       "      <th>player1_skill</th>\n",
       "      <th>player2_skill</th>\n",
       "      <th>winner_id</th>\n",
       "    </tr>\n",
       "  </thead>\n",
       "  <tbody>\n",
       "    <tr>\n",
       "      <th>0</th>\n",
       "      <td>1066</td>\n",
       "      <td>414</td>\n",
       "      <td>128.0</td>\n",
       "      <td>178.8</td>\n",
       "      <td>1066.0</td>\n",
       "    </tr>\n",
       "    <tr>\n",
       "      <th>1</th>\n",
       "      <td>304</td>\n",
       "      <td>893</td>\n",
       "      <td>182.6</td>\n",
       "      <td>148.0</td>\n",
       "      <td>893.0</td>\n",
       "    </tr>\n",
       "    <tr>\n",
       "      <th>2</th>\n",
       "      <td>544</td>\n",
       "      <td>893</td>\n",
       "      <td>210.4</td>\n",
       "      <td>148.0</td>\n",
       "      <td>544.0</td>\n",
       "    </tr>\n",
       "    <tr>\n",
       "      <th>3</th>\n",
       "      <td>1158</td>\n",
       "      <td>1011</td>\n",
       "      <td>168.0</td>\n",
       "      <td>207.6</td>\n",
       "      <td>1011.0</td>\n",
       "    </tr>\n",
       "    <tr>\n",
       "      <th>4</th>\n",
       "      <td>22</td>\n",
       "      <td>154</td>\n",
       "      <td>288.6</td>\n",
       "      <td>231.4</td>\n",
       "      <td>154.0</td>\n",
       "    </tr>\n",
       "  </tbody>\n",
       "</table>\n",
       "</div>"
      ],
      "text/plain": [
       "   player1_id  player2_id  player1_skill  player2_skill  winner_id\n",
       "0        1066         414          128.0          178.8     1066.0\n",
       "1         304         893          182.6          148.0      893.0\n",
       "2         544         893          210.4          148.0      544.0\n",
       "3        1158        1011          168.0          207.6     1011.0\n",
       "4          22         154          288.6          231.4      154.0"
      ]
     },
     "execution_count": 7,
     "metadata": {},
     "output_type": "execute_result"
    }
   ],
   "source": [
    "player_df.head()"
   ]
  },
  {
   "cell_type": "markdown",
   "metadata": {},
   "source": [
    "Let's check if any values in the datframe are NaNs."
   ]
  },
  {
   "cell_type": "code",
   "execution_count": 8,
   "metadata": {},
   "outputs": [
    {
     "data": {
      "text/plain": [
       "player1_id        0\n",
       "player2_id        0\n",
       "player1_skill    14\n",
       "player2_skill    24\n",
       "winner_id         2\n",
       "dtype: int64"
      ]
     },
     "execution_count": 8,
     "metadata": {},
     "output_type": "execute_result"
    }
   ],
   "source": [
    "player_df.isnull().sum()"
   ]
  },
  {
   "cell_type": "markdown",
   "metadata": {},
   "source": [
    "We need to toss these NaNs out before doing any ML modeling."
   ]
  },
  {
   "cell_type": "code",
   "execution_count": 9,
   "metadata": {},
   "outputs": [
    {
     "data": {
      "text/plain": [
       "(2120, 5)"
      ]
     },
     "execution_count": 9,
     "metadata": {},
     "output_type": "execute_result"
    }
   ],
   "source": [
    "player_df.shape"
   ]
  },
  {
   "cell_type": "code",
   "execution_count": 10,
   "metadata": {},
   "outputs": [],
   "source": [
    "player_df2 = player_df.dropna()"
   ]
  },
  {
   "cell_type": "code",
   "execution_count": 11,
   "metadata": {},
   "outputs": [
    {
     "data": {
      "text/plain": [
       "(2080, 5)"
      ]
     },
     "execution_count": 11,
     "metadata": {},
     "output_type": "execute_result"
    }
   ],
   "source": [
    "player_df2.shape"
   ]
  },
  {
   "cell_type": "code",
   "execution_count": 12,
   "metadata": {},
   "outputs": [
    {
     "data": {
      "text/plain": [
       "player1_id       0\n",
       "player2_id       0\n",
       "player1_skill    0\n",
       "player2_skill    0\n",
       "winner_id        0\n",
       "dtype: int64"
      ]
     },
     "execution_count": 12,
     "metadata": {},
     "output_type": "execute_result"
    }
   ],
   "source": [
    "player_df2.isnull().sum()"
   ]
  },
  {
   "cell_type": "code",
   "execution_count": 13,
   "metadata": {},
   "outputs": [
    {
     "data": {
      "text/html": [
       "<div>\n",
       "<style scoped>\n",
       "    .dataframe tbody tr th:only-of-type {\n",
       "        vertical-align: middle;\n",
       "    }\n",
       "\n",
       "    .dataframe tbody tr th {\n",
       "        vertical-align: top;\n",
       "    }\n",
       "\n",
       "    .dataframe thead th {\n",
       "        text-align: right;\n",
       "    }\n",
       "</style>\n",
       "<table border=\"1\" class=\"dataframe\">\n",
       "  <thead>\n",
       "    <tr style=\"text-align: right;\">\n",
       "      <th></th>\n",
       "      <th>player1_id</th>\n",
       "      <th>player2_id</th>\n",
       "      <th>player1_skill</th>\n",
       "      <th>player2_skill</th>\n",
       "      <th>winner_id</th>\n",
       "    </tr>\n",
       "  </thead>\n",
       "  <tbody>\n",
       "    <tr>\n",
       "      <th>2115</th>\n",
       "      <td>671</td>\n",
       "      <td>231</td>\n",
       "      <td>264.4</td>\n",
       "      <td>269.2</td>\n",
       "      <td>671.0</td>\n",
       "    </tr>\n",
       "    <tr>\n",
       "      <th>2116</th>\n",
       "      <td>1114</td>\n",
       "      <td>155</td>\n",
       "      <td>201.8</td>\n",
       "      <td>300.4</td>\n",
       "      <td>1114.0</td>\n",
       "    </tr>\n",
       "    <tr>\n",
       "      <th>2117</th>\n",
       "      <td>1114</td>\n",
       "      <td>155</td>\n",
       "      <td>201.8</td>\n",
       "      <td>300.4</td>\n",
       "      <td>1114.0</td>\n",
       "    </tr>\n",
       "    <tr>\n",
       "      <th>2118</th>\n",
       "      <td>1114</td>\n",
       "      <td>231</td>\n",
       "      <td>201.8</td>\n",
       "      <td>279.0</td>\n",
       "      <td>231.0</td>\n",
       "    </tr>\n",
       "    <tr>\n",
       "      <th>2119</th>\n",
       "      <td>366</td>\n",
       "      <td>631</td>\n",
       "      <td>261.4</td>\n",
       "      <td>282.8</td>\n",
       "      <td>366.0</td>\n",
       "    </tr>\n",
       "  </tbody>\n",
       "</table>\n",
       "</div>"
      ],
      "text/plain": [
       "      player1_id  player2_id  player1_skill  player2_skill  winner_id\n",
       "2115         671         231          264.4          269.2      671.0\n",
       "2116        1114         155          201.8          300.4     1114.0\n",
       "2117        1114         155          201.8          300.4     1114.0\n",
       "2118        1114         231          201.8          279.0      231.0\n",
       "2119         366         631          261.4          282.8      366.0"
      ]
     },
     "execution_count": 13,
     "metadata": {},
     "output_type": "execute_result"
    }
   ],
   "source": [
    "player_df2.tail()"
   ]
  },
  {
   "cell_type": "markdown",
   "metadata": {},
   "source": [
    "The last index value is 2119, however after dropping rows with NaNs, there are only 2080 rows.  So, we will need to reset index."
   ]
  },
  {
   "cell_type": "code",
   "execution_count": 14,
   "metadata": {},
   "outputs": [],
   "source": [
    "player_df2.reset_index(drop=True,inplace=True)"
   ]
  },
  {
   "cell_type": "code",
   "execution_count": 15,
   "metadata": {},
   "outputs": [
    {
     "data": {
      "text/html": [
       "<div>\n",
       "<style scoped>\n",
       "    .dataframe tbody tr th:only-of-type {\n",
       "        vertical-align: middle;\n",
       "    }\n",
       "\n",
       "    .dataframe tbody tr th {\n",
       "        vertical-align: top;\n",
       "    }\n",
       "\n",
       "    .dataframe thead th {\n",
       "        text-align: right;\n",
       "    }\n",
       "</style>\n",
       "<table border=\"1\" class=\"dataframe\">\n",
       "  <thead>\n",
       "    <tr style=\"text-align: right;\">\n",
       "      <th></th>\n",
       "      <th>player1_id</th>\n",
       "      <th>player2_id</th>\n",
       "      <th>player1_skill</th>\n",
       "      <th>player2_skill</th>\n",
       "      <th>winner_id</th>\n",
       "    </tr>\n",
       "  </thead>\n",
       "  <tbody>\n",
       "    <tr>\n",
       "      <th>2075</th>\n",
       "      <td>671</td>\n",
       "      <td>231</td>\n",
       "      <td>264.4</td>\n",
       "      <td>269.2</td>\n",
       "      <td>671.0</td>\n",
       "    </tr>\n",
       "    <tr>\n",
       "      <th>2076</th>\n",
       "      <td>1114</td>\n",
       "      <td>155</td>\n",
       "      <td>201.8</td>\n",
       "      <td>300.4</td>\n",
       "      <td>1114.0</td>\n",
       "    </tr>\n",
       "    <tr>\n",
       "      <th>2077</th>\n",
       "      <td>1114</td>\n",
       "      <td>155</td>\n",
       "      <td>201.8</td>\n",
       "      <td>300.4</td>\n",
       "      <td>1114.0</td>\n",
       "    </tr>\n",
       "    <tr>\n",
       "      <th>2078</th>\n",
       "      <td>1114</td>\n",
       "      <td>231</td>\n",
       "      <td>201.8</td>\n",
       "      <td>279.0</td>\n",
       "      <td>231.0</td>\n",
       "    </tr>\n",
       "    <tr>\n",
       "      <th>2079</th>\n",
       "      <td>366</td>\n",
       "      <td>631</td>\n",
       "      <td>261.4</td>\n",
       "      <td>282.8</td>\n",
       "      <td>366.0</td>\n",
       "    </tr>\n",
       "  </tbody>\n",
       "</table>\n",
       "</div>"
      ],
      "text/plain": [
       "      player1_id  player2_id  player1_skill  player2_skill  winner_id\n",
       "2075         671         231          264.4          269.2      671.0\n",
       "2076        1114         155          201.8          300.4     1114.0\n",
       "2077        1114         155          201.8          300.4     1114.0\n",
       "2078        1114         231          201.8          279.0      231.0\n",
       "2079         366         631          261.4          282.8      366.0"
      ]
     },
     "execution_count": 15,
     "metadata": {},
     "output_type": "execute_result"
    }
   ],
   "source": [
    "player_df2.tail()"
   ]
  },
  {
   "cell_type": "markdown",
   "metadata": {},
   "source": [
    "Great!  We've now cleaned the data."
   ]
  },
  {
   "cell_type": "markdown",
   "metadata": {},
   "source": [
    "I would like to create a scatter plot of the data.  What I would like to plot is player1 vs player2 skill level on a 2D plot.  The marker can be different style/color depending on if player1 or player2 won (eg blue circle if player1 won, red squares if player2 won)."
   ]
  },
  {
   "cell_type": "markdown",
   "metadata": {},
   "source": [
    "First we need to do some maniputation of the dataframe."
   ]
  },
  {
   "cell_type": "code",
   "execution_count": 16,
   "metadata": {},
   "outputs": [],
   "source": [
    "def find_winning_player(df):\n",
    "    #This function reads in the player dataframe where each index is a new game.\n",
    "    #It outputs a Series of the same length displaying 1 or 0 if player1 wins or loses, respectively.\n",
    "    \n",
    "    player1_wins = pd.Series([None]*len(df))\n",
    "    \n",
    "    for index, row in df.iterrows():\n",
    "        if row['winner_id'] == row['player1_id']:\n",
    "            player1_wins[index] = 1\n",
    "        elif row['winner_id'] == row['player2_id']:\n",
    "            player1_wins[index] = 0\n",
    "        else:\n",
    "            player1_wins[index] = None\n",
    "    \n",
    "    return player1_wins\n",
    "        "
   ]
  },
  {
   "cell_type": "code",
   "execution_count": 17,
   "metadata": {},
   "outputs": [],
   "source": [
    "player1_wins_S = find_winning_player(player_df2)"
   ]
  },
  {
   "cell_type": "code",
   "execution_count": 18,
   "metadata": {},
   "outputs": [
    {
     "data": {
      "text/plain": [
       "0    1\n",
       "1    0\n",
       "2    1\n",
       "3    0\n",
       "4    0\n",
       "dtype: object"
      ]
     },
     "execution_count": 18,
     "metadata": {},
     "output_type": "execute_result"
    }
   ],
   "source": [
    "player1_wins_S.head()"
   ]
  },
  {
   "cell_type": "code",
   "execution_count": 19,
   "metadata": {},
   "outputs": [
    {
     "data": {
      "text/plain": [
       "2075    1\n",
       "2076    1\n",
       "2077    1\n",
       "2078    0\n",
       "2079    1\n",
       "dtype: object"
      ]
     },
     "execution_count": 19,
     "metadata": {},
     "output_type": "execute_result"
    }
   ],
   "source": [
    "player1_wins_S.tail()"
   ]
  },
  {
   "cell_type": "code",
   "execution_count": 20,
   "metadata": {},
   "outputs": [
    {
     "data": {
      "text/plain": [
       "1    1120\n",
       "0     960\n",
       "dtype: int64"
      ]
     },
     "execution_count": 20,
     "metadata": {},
     "output_type": "execute_result"
    }
   ],
   "source": [
    "player1_wins_S.value_counts()"
   ]
  },
  {
   "cell_type": "markdown",
   "metadata": {},
   "source": [
    "Player 1 has a higher likelihood of winning than player 2.  Is that because in this dataset player 1 has a higher score on average?  We can answer some of these questions by producing insightful plots."
   ]
  },
  {
   "cell_type": "code",
   "execution_count": 21,
   "metadata": {},
   "outputs": [],
   "source": [
    "player1_wins_S = player1_wins_S.astype('int32')"
   ]
  },
  {
   "cell_type": "code",
   "execution_count": 22,
   "metadata": {},
   "outputs": [],
   "source": [
    "player_df2 = player_df2.merge(player1_wins_S.to_frame(name='player1_wins'),left_index=True,right_index=True)"
   ]
  },
  {
   "cell_type": "code",
   "execution_count": 23,
   "metadata": {},
   "outputs": [
    {
     "data": {
      "text/html": [
       "<div>\n",
       "<style scoped>\n",
       "    .dataframe tbody tr th:only-of-type {\n",
       "        vertical-align: middle;\n",
       "    }\n",
       "\n",
       "    .dataframe tbody tr th {\n",
       "        vertical-align: top;\n",
       "    }\n",
       "\n",
       "    .dataframe thead th {\n",
       "        text-align: right;\n",
       "    }\n",
       "</style>\n",
       "<table border=\"1\" class=\"dataframe\">\n",
       "  <thead>\n",
       "    <tr style=\"text-align: right;\">\n",
       "      <th></th>\n",
       "      <th>player1_id</th>\n",
       "      <th>player2_id</th>\n",
       "      <th>player1_skill</th>\n",
       "      <th>player2_skill</th>\n",
       "      <th>winner_id</th>\n",
       "      <th>player1_wins</th>\n",
       "    </tr>\n",
       "  </thead>\n",
       "  <tbody>\n",
       "    <tr>\n",
       "      <th>0</th>\n",
       "      <td>1066</td>\n",
       "      <td>414</td>\n",
       "      <td>128.0</td>\n",
       "      <td>178.8</td>\n",
       "      <td>1066.0</td>\n",
       "      <td>1</td>\n",
       "    </tr>\n",
       "    <tr>\n",
       "      <th>1</th>\n",
       "      <td>304</td>\n",
       "      <td>893</td>\n",
       "      <td>182.6</td>\n",
       "      <td>148.0</td>\n",
       "      <td>893.0</td>\n",
       "      <td>0</td>\n",
       "    </tr>\n",
       "    <tr>\n",
       "      <th>2</th>\n",
       "      <td>544</td>\n",
       "      <td>893</td>\n",
       "      <td>210.4</td>\n",
       "      <td>148.0</td>\n",
       "      <td>544.0</td>\n",
       "      <td>1</td>\n",
       "    </tr>\n",
       "    <tr>\n",
       "      <th>3</th>\n",
       "      <td>1158</td>\n",
       "      <td>1011</td>\n",
       "      <td>168.0</td>\n",
       "      <td>207.6</td>\n",
       "      <td>1011.0</td>\n",
       "      <td>0</td>\n",
       "    </tr>\n",
       "    <tr>\n",
       "      <th>4</th>\n",
       "      <td>22</td>\n",
       "      <td>154</td>\n",
       "      <td>288.6</td>\n",
       "      <td>231.4</td>\n",
       "      <td>154.0</td>\n",
       "      <td>0</td>\n",
       "    </tr>\n",
       "  </tbody>\n",
       "</table>\n",
       "</div>"
      ],
      "text/plain": [
       "   player1_id  player2_id  player1_skill  player2_skill  winner_id  \\\n",
       "0        1066         414          128.0          178.8     1066.0   \n",
       "1         304         893          182.6          148.0      893.0   \n",
       "2         544         893          210.4          148.0      544.0   \n",
       "3        1158        1011          168.0          207.6     1011.0   \n",
       "4          22         154          288.6          231.4      154.0   \n",
       "\n",
       "   player1_wins  \n",
       "0             1  \n",
       "1             0  \n",
       "2             1  \n",
       "3             0  \n",
       "4             0  "
      ]
     },
     "execution_count": 23,
     "metadata": {},
     "output_type": "execute_result"
    }
   ],
   "source": [
    "player_df2.head()"
   ]
  },
  {
   "cell_type": "code",
   "execution_count": 24,
   "metadata": {},
   "outputs": [
    {
     "data": {
      "text/plain": [
       "(2080, 6)"
      ]
     },
     "execution_count": 24,
     "metadata": {},
     "output_type": "execute_result"
    }
   ],
   "source": [
    "player_df2.shape"
   ]
  },
  {
   "cell_type": "markdown",
   "metadata": {},
   "source": [
    "Now it should be straightforward to create a plot."
   ]
  },
  {
   "cell_type": "code",
   "execution_count": 25,
   "metadata": {},
   "outputs": [
    {
     "data": {
      "text/plain": [
       "<matplotlib.legend.Legend at 0x7fd249cc5eb0>"
      ]
     },
     "execution_count": 25,
     "metadata": {},
     "output_type": "execute_result"
    },
    {
     "data": {
      "image/png": "[encoded data removed]",
      "text/plain": [
       "<Figure size 720x576 with 1 Axes>"
      ]
     },
     "metadata": {
      "needs_background": "light"
     },
     "output_type": "display_data"
    }
   ],
   "source": [
    "mask_player1_wins = player_df2['player1_wins'] == 1\n",
    "plt.figure(figsize=(10,8))\n",
    "\n",
    "plt.scatter(player_df2.loc[mask_player1_wins,'player1_skill'],player_df2.loc[mask_player1_wins,'player2_skill'],c='b',marker='o',alpha=.3,label='Player 1 wins')\n",
    "plt.scatter(player_df2.loc[~mask_player1_wins,'player1_skill'],player_df2.loc[~mask_player1_wins,'player2_skill'],c='r',marker='s',alpha=.3,label='Player 2 wins')\n",
    "plt.xlabel('Player 1 Skill Level')\n",
    "plt.ylabel('Player 2 Skill Level')\n",
    "plt.legend()"
   ]
  },
  {
   "cell_type": "markdown",
   "metadata": {},
   "source": [
    "Based on the scatter plot, we can imagine a decision boundary that goes through the data, where to the right of the decision boundary (a line) Player 1 is more likely to win, and to the left of the decision boundary Player 2 is more likely to win."
   ]
  },
  {
   "cell_type": "code",
   "execution_count": 26,
   "metadata": {},
   "outputs": [
    {
     "data": {
      "text/plain": [
       "Text(0, 0.5, 'number of wins')"
      ]
     },
     "execution_count": 26,
     "metadata": {},
     "output_type": "execute_result"
    },
    {
     "data": {
      "image/png": "[encoded data removed]",
      "text/plain": [
       "<Figure size 720x576 with 1 Axes>"
      ]
     },
     "metadata": {
      "needs_background": "light"
     },
     "output_type": "display_data"
    }
   ],
   "source": [
    "plt.figure(figsize=(10,8))\n",
    "\n",
    "player_df2['player1_wins'].value_counts().plot(kind='bar')\n",
    "plt.xlabel('wins versus loses for player 1')\n",
    "plt.ylabel('number of wins')"
   ]
  },
  {
   "cell_type": "code",
   "execution_count": 27,
   "metadata": {},
   "outputs": [
    {
     "data": {
      "text/plain": [
       "<matplotlib.legend.Legend at 0x7fd249b2c700>"
      ]
     },
     "execution_count": 27,
     "metadata": {},
     "output_type": "execute_result"
    },
    {
     "data": {
      "image/png": "[encoded data removed]",
      "text/plain": [
       "<Figure size 720x576 with 1 Axes>"
      ]
     },
     "metadata": {
      "needs_background": "light"
     },
     "output_type": "display_data"
    }
   ],
   "source": [
    "plt.figure(figsize=(10,8))\n",
    "\n",
    "plt.hist(player_df2.loc[mask_player1_wins,'player1_skill'].values,bins=30,color='b',alpha=0.5,label='Player 1 skill')\n",
    "plt.hist(player_df2.loc[~mask_player1_wins,'player2_skill'].values,bins=30,color='r',alpha=0.5,label='Player 2 skill')\n",
    "plt.xlabel('Player skill level')\n",
    "plt.ylabel('counts')\n",
    "plt.legend()"
   ]
  },
  {
   "cell_type": "markdown",
   "metadata": {},
   "source": [
    "The above histogram may indicate a problem, because player 1 skill level is not Normally distributed and it has a long tail on the left side.  The mean skill level is obviously very different, which will likely cause a bias in our model. One way to combat that issue would be to train our model such that Player1 always has the higher skill level."
   ]
  },
  {
   "cell_type": "markdown",
   "metadata": {},
   "source": [
    "This is a classification problem because the outcome of each example is a 1 (player 1 wins) or a 0 (player 2 wins).  One of the simplest machine learning models would be logistic regression.  We'll start with this and work our way to more complex models."
   ]
  },
  {
   "cell_type": "code",
   "execution_count": 28,
   "metadata": {},
   "outputs": [],
   "source": [
    "from sklearn.linear_model import LogisticRegression\n",
    "from sklearn.model_selection import train_test_split"
   ]
  },
  {
   "cell_type": "markdown",
   "metadata": {},
   "source": [
    "We first need to split our data into a train and a test dataset.  Also, we will simplify our dataframe to just 3 columns that we need."
   ]
  },
  {
   "cell_type": "code",
   "execution_count": 29,
   "metadata": {},
   "outputs": [],
   "source": [
    "player_df2_small = player_df2.loc[:,['player1_skill','player2_skill','player1_wins']]"
   ]
  },
  {
   "cell_type": "code",
   "execution_count": 30,
   "metadata": {},
   "outputs": [],
   "source": [
    "y = player_df2_small['player1_wins']\n",
    "X = player_df2_small.drop('player1_wins',axis=1)\n",
    "\n",
    "X_train, X_test, y_train, y_test = train_test_split(X,y,test_size=.25,random_state=1)"
   ]
  },
  {
   "cell_type": "code",
   "execution_count": 31,
   "metadata": {},
   "outputs": [
    {
     "name": "stdout",
     "output_type": "stream",
     "text": [
      "Training set score: 0.688\n",
      "Test set score: 0.660\n"
     ]
    }
   ],
   "source": [
    "logreg = LogisticRegression().fit(X_train,y_train)\n",
    "    \n",
    "print(\"Training set score: {:.3f}\".format(logreg.score(X_train,y_train)))\n",
    "print(\"Test set score: {:.3f}\".format(logreg.score(X_test,y_test)))"
   ]
  },
  {
   "cell_type": "markdown",
   "metadata": {},
   "source": [
    "Great!  Our baseline model for logistic regression has an accuracy of 0.688 on the training set and 0.660 on the test set.  Not very good.  However, it's not too surprising given the distribution of the data shown in the scatter plot.  Let's see if we can do better with Logistic regression by finding the optimal value of 'C' the regularization constant."
   ]
  },
  {
   "cell_type": "code",
   "execution_count": 32,
   "metadata": {},
   "outputs": [],
   "source": [
    "from sklearn.model_selection import GridSearchCV"
   ]
  },
  {
   "cell_type": "code",
   "execution_count": 33,
   "metadata": {},
   "outputs": [],
   "source": [
    "param_grid = {'C':[0.001, 0.01, 0.1, 1, 10, 100]}\n",
    "grid_search = GridSearchCV(LogisticRegression(),param_grid,cv=5)"
   ]
  },
  {
   "cell_type": "code",
   "execution_count": 34,
   "metadata": {},
   "outputs": [
    {
     "data": {
      "text/plain": [
       "GridSearchCV(cv=5, estimator=LogisticRegression(),\n",
       "             param_grid={'C': [0.001, 0.01, 0.1, 1, 10, 100]})"
      ]
     },
     "execution_count": 34,
     "metadata": {},
     "output_type": "execute_result"
    }
   ],
   "source": [
    "grid_search.fit(X_train,y_train)"
   ]
  },
  {
   "cell_type": "code",
   "execution_count": 35,
   "metadata": {},
   "outputs": [
    {
     "name": "stdout",
     "output_type": "stream",
     "text": [
      "Test set score: 0.660\n"
     ]
    }
   ],
   "source": [
    "print(\"Test set score: {:.3f}\".format(grid_search.score(X_test,y_test)))"
   ]
  },
  {
   "cell_type": "code",
   "execution_count": 36,
   "metadata": {},
   "outputs": [
    {
     "name": "stdout",
     "output_type": "stream",
     "text": [
      "Best parameters: {'C': 0.001}\n",
      "Best cross-validation score: 0.689\n"
     ]
    }
   ],
   "source": [
    "print(\"Best parameters: {}\".format(grid_search.best_params_))\n",
    "print(\"Best cross-validation score: {:.3f}\".format(grid_search.best_score_))"
   ]
  },
  {
   "cell_type": "markdown",
   "metadata": {},
   "source": [
    "Okay, Grid search did not result in a better test set score.  Let's try some other models."
   ]
  },
  {
   "cell_type": "markdown",
   "metadata": {},
   "source": [
    "Let's try Logistic Regression with L1 regularization."
   ]
  },
  {
   "cell_type": "code",
   "execution_count": 37,
   "metadata": {},
   "outputs": [
    {
     "name": "stdout",
     "output_type": "stream",
     "text": [
      "Training set score: 0.688\n",
      "Test set score: 0.658\n"
     ]
    }
   ],
   "source": [
    "# Try logistic regression with L1 regularization\n",
    "logreg_l1 = LogisticRegression(penalty='l1',solver='liblinear').fit(X_train,y_train)\n",
    "    \n",
    "print(\"Training set score: {:.3f}\".format(logreg_l1.score(X_train,y_train)))\n",
    "print(\"Test set score: {:.3f}\".format(logreg_l1.score(X_test,y_test)))"
   ]
  },
  {
   "cell_type": "markdown",
   "metadata": {},
   "source": [
    "Let's try a KNN model."
   ]
  },
  {
   "cell_type": "code",
   "execution_count": 38,
   "metadata": {},
   "outputs": [],
   "source": [
    "from sklearn.neighbors import KNeighborsClassifier"
   ]
  },
  {
   "cell_type": "code",
   "execution_count": 39,
   "metadata": {},
   "outputs": [
    {
     "name": "stdout",
     "output_type": "stream",
     "text": [
      "Training set score: 0.778\n",
      "Test set score: 0.635\n"
     ]
    }
   ],
   "source": [
    "knn = KNeighborsClassifier().fit(X_train,y_train)\n",
    "\n",
    "print(\"Training set score: {:.3f}\".format(knn.score(X_train,y_train)))\n",
    "print(\"Test set score: {:.3f}\".format(knn.score(X_test,y_test)))"
   ]
  },
  {
   "cell_type": "markdown",
   "metadata": {},
   "source": [
    "So, with KNN default values we are observing a training set score of 0.778 and a test set score of 0.635.  I think this would be a good candidate for doing grid search."
   ]
  },
  {
   "cell_type": "code",
   "execution_count": 40,
   "metadata": {},
   "outputs": [],
   "source": [
    "param_grid = {'n_neighbors':[5,10,30,50,100,130]}\n",
    "grid_search = GridSearchCV(KNeighborsClassifier(),param_grid,cv=5)"
   ]
  },
  {
   "cell_type": "code",
   "execution_count": 41,
   "metadata": {},
   "outputs": [
    {
     "data": {
      "text/plain": [
       "GridSearchCV(cv=5, estimator=KNeighborsClassifier(),\n",
       "             param_grid={'n_neighbors': [5, 10, 30, 50, 100, 130]})"
      ]
     },
     "execution_count": 41,
     "metadata": {},
     "output_type": "execute_result"
    }
   ],
   "source": [
    "grid_search.fit(X_train,y_train)"
   ]
  },
  {
   "cell_type": "code",
   "execution_count": 42,
   "metadata": {},
   "outputs": [
    {
     "name": "stdout",
     "output_type": "stream",
     "text": [
      "Test set score: 0.667\n"
     ]
    }
   ],
   "source": [
    "print(\"Test set score: {:.3f}\".format(grid_search.score(X_test,y_test)))"
   ]
  },
  {
   "cell_type": "code",
   "execution_count": 43,
   "metadata": {},
   "outputs": [
    {
     "name": "stdout",
     "output_type": "stream",
     "text": [
      "Best parameters: {'n_neighbors': 130}\n",
      "Best cross-validation score: 0.682\n"
     ]
    }
   ],
   "source": [
    "print(\"Best parameters: {}\".format(grid_search.best_params_))\n",
    "print(\"Best cross-validation score: {:.3f}\".format(grid_search.best_score_))"
   ]
  },
  {
   "cell_type": "markdown",
   "metadata": {},
   "source": [
    "Let's try a Decision Tree model"
   ]
  },
  {
   "cell_type": "code",
   "execution_count": 44,
   "metadata": {},
   "outputs": [],
   "source": [
    "from sklearn.tree import DecisionTreeClassifier"
   ]
  },
  {
   "cell_type": "code",
   "execution_count": 45,
   "metadata": {},
   "outputs": [
    {
     "name": "stdout",
     "output_type": "stream",
     "text": [
      "Training set score: 0.997\n",
      "Test set score: 0.613\n"
     ]
    }
   ],
   "source": [
    "tree = DecisionTreeClassifier(random_state=0).fit(X_train,y_train)\n",
    "\n",
    "print(\"Training set score: {:.3f}\".format(tree.score(X_train,y_train)))\n",
    "print(\"Test set score: {:.3f}\".format(tree.score(X_test,y_test)))"
   ]
  },
  {
   "cell_type": "markdown",
   "metadata": {},
   "source": [
    "Well, that's interesting.  Decision Trees get really high accuracy, but clearly it is overfitting the training set data."
   ]
  },
  {
   "cell_type": "markdown",
   "metadata": {},
   "source": [
    "Let's try to incorporate regularization by specifying a max_depth value"
   ]
  },
  {
   "cell_type": "code",
   "execution_count": 46,
   "metadata": {},
   "outputs": [
    {
     "name": "stdout",
     "output_type": "stream",
     "text": [
      "Training set score: 0.704\n",
      "Test set score: 0.662\n"
     ]
    }
   ],
   "source": [
    "tree_reg1 = DecisionTreeClassifier(max_depth=4, random_state=0).fit(X_train,y_train)\n",
    "\n",
    "print(\"Training set score: {:.3f}\".format(tree_reg1.score(X_train,y_train)))\n",
    "print(\"Test set score: {:.3f}\".format(tree_reg1.score(X_test,y_test)))"
   ]
  },
  {
   "cell_type": "code",
   "execution_count": 47,
   "metadata": {},
   "outputs": [
    {
     "name": "stdout",
     "output_type": "stream",
     "text": [
      "Training set score: 0.715\n",
      "Test set score: 0.675\n"
     ]
    }
   ],
   "source": [
    "tree_reg2 = DecisionTreeClassifier(min_samples_leaf=40, random_state=0).fit(X_train,y_train)\n",
    "\n",
    "print(\"Training set score: {:.3f}\".format(tree_reg2.score(X_train,y_train)))\n",
    "print(\"Test set score: {:.3f}\".format(tree_reg2.score(X_test,y_test)))"
   ]
  },
  {
   "cell_type": "markdown",
   "metadata": {},
   "source": [
    "Something I haven't tried yet is feature engineering.  Specifically, creating a new feature that is the difference of player1_skill and player2_skill.  Let's try that."
   ]
  },
  {
   "cell_type": "code",
   "execution_count": 48,
   "metadata": {},
   "outputs": [],
   "source": [
    "def skill_diff(row):\n",
    "    return row['player1_skill'] - row['player2_skill']"
   ]
  },
  {
   "cell_type": "code",
   "execution_count": 49,
   "metadata": {},
   "outputs": [],
   "source": [
    "player_df2_small['skill_diff'] = player_df2_small.apply(skill_diff,axis=1)"
   ]
  },
  {
   "cell_type": "code",
   "execution_count": 50,
   "metadata": {},
   "outputs": [
    {
     "data": {
      "text/html": [
       "<div>\n",
       "<style scoped>\n",
       "    .dataframe tbody tr th:only-of-type {\n",
       "        vertical-align: middle;\n",
       "    }\n",
       "\n",
       "    .dataframe tbody tr th {\n",
       "        vertical-align: top;\n",
       "    }\n",
       "\n",
       "    .dataframe thead th {\n",
       "        text-align: right;\n",
       "    }\n",
       "</style>\n",
       "<table border=\"1\" class=\"dataframe\">\n",
       "  <thead>\n",
       "    <tr style=\"text-align: right;\">\n",
       "      <th></th>\n",
       "      <th>player1_skill</th>\n",
       "      <th>player2_skill</th>\n",
       "      <th>player1_wins</th>\n",
       "      <th>skill_diff</th>\n",
       "    </tr>\n",
       "  </thead>\n",
       "  <tbody>\n",
       "    <tr>\n",
       "      <th>0</th>\n",
       "      <td>128.0</td>\n",
       "      <td>178.8</td>\n",
       "      <td>1</td>\n",
       "      <td>-50.8</td>\n",
       "    </tr>\n",
       "    <tr>\n",
       "      <th>1</th>\n",
       "      <td>182.6</td>\n",
       "      <td>148.0</td>\n",
       "      <td>0</td>\n",
       "      <td>34.6</td>\n",
       "    </tr>\n",
       "    <tr>\n",
       "      <th>2</th>\n",
       "      <td>210.4</td>\n",
       "      <td>148.0</td>\n",
       "      <td>1</td>\n",
       "      <td>62.4</td>\n",
       "    </tr>\n",
       "    <tr>\n",
       "      <th>3</th>\n",
       "      <td>168.0</td>\n",
       "      <td>207.6</td>\n",
       "      <td>0</td>\n",
       "      <td>-39.6</td>\n",
       "    </tr>\n",
       "    <tr>\n",
       "      <th>4</th>\n",
       "      <td>288.6</td>\n",
       "      <td>231.4</td>\n",
       "      <td>0</td>\n",
       "      <td>57.2</td>\n",
       "    </tr>\n",
       "  </tbody>\n",
       "</table>\n",
       "</div>"
      ],
      "text/plain": [
       "   player1_skill  player2_skill  player1_wins  skill_diff\n",
       "0          128.0          178.8             1       -50.8\n",
       "1          182.6          148.0             0        34.6\n",
       "2          210.4          148.0             1        62.4\n",
       "3          168.0          207.6             0       -39.6\n",
       "4          288.6          231.4             0        57.2"
      ]
     },
     "execution_count": 50,
     "metadata": {},
     "output_type": "execute_result"
    }
   ],
   "source": [
    "player_df2_small.head()"
   ]
  },
  {
   "cell_type": "code",
   "execution_count": 51,
   "metadata": {},
   "outputs": [],
   "source": [
    "y = player_df2_small['player1_wins']\n",
    "X = player_df2_small.drop('player1_wins',axis=1)\n",
    "\n",
    "X_train, X_test, y_train, y_test = train_test_split(X,y,test_size=.25,random_state=1)"
   ]
  },
  {
   "cell_type": "code",
   "execution_count": 52,
   "metadata": {},
   "outputs": [
    {
     "name": "stdout",
     "output_type": "stream",
     "text": [
      "Training set score: 0.688\n",
      "Test set score: 0.660\n"
     ]
    }
   ],
   "source": [
    "logreg = LogisticRegression().fit(X_train,y_train)\n",
    "    \n",
    "print(\"Training set score: {:.3f}\".format(logreg.score(X_train,y_train)))\n",
    "print(\"Test set score: {:.3f}\".format(logreg.score(X_test,y_test)))"
   ]
  },
  {
   "cell_type": "code",
   "execution_count": 53,
   "metadata": {},
   "outputs": [
    {
     "name": "stdout",
     "output_type": "stream",
     "text": [
      "Test set score: 0.660\n",
      "Best parameters: {'C': 0.001}\n",
      "Best cross-validation score: 0.689\n"
     ]
    }
   ],
   "source": [
    "# %load 46-49\n",
    "param_grid = {'C':[0.001, 0.01, 0.1, 1, 10, 100]}\n",
    "grid_search = GridSearchCV(LogisticRegression(),param_grid,cv=5)\n",
    "grid_search.fit(X_train,y_train)\n",
    "print(\"Test set score: {:.3f}\".format(grid_search.score(X_test,y_test)))\n",
    "print(\"Best parameters: {}\".format(grid_search.best_params_))\n",
    "print(\"Best cross-validation score: {:.3f}\".format(grid_search.best_score_))"
   ]
  },
  {
   "cell_type": "code",
   "execution_count": 54,
   "metadata": {},
   "outputs": [
    {
     "name": "stdout",
     "output_type": "stream",
     "text": [
      "Training set score: 0.774\n",
      "Test set score: 0.619\n"
     ]
    }
   ],
   "source": [
    "# %load 52\n",
    "knn = KNeighborsClassifier().fit(X_train,y_train)\n",
    "\n",
    "print(\"Training set score: {:.3f}\".format(knn.score(X_train,y_train)))\n",
    "print(\"Test set score: {:.3f}\".format(knn.score(X_test,y_test)))"
   ]
  },
  {
   "cell_type": "code",
   "execution_count": 55,
   "metadata": {},
   "outputs": [
    {
     "name": "stdout",
     "output_type": "stream",
     "text": [
      "Test set score: 0.648\n",
      "Best parameters: {'n_neighbors': 130}\n",
      "Best cross-validation score: 0.691\n"
     ]
    }
   ],
   "source": [
    "# %load 54-57\n",
    "param_grid = {'n_neighbors':[5,10,30,50,100,130]}\n",
    "grid_search = GridSearchCV(KNeighborsClassifier(),param_grid,cv=5)\n",
    "grid_search.fit(X_train,y_train)\n",
    "print(\"Test set score: {:.3f}\".format(grid_search.score(X_test,y_test)))\n",
    "print(\"Best parameters: {}\".format(grid_search.best_params_))\n",
    "print(\"Best cross-validation score: {:.3f}\".format(grid_search.best_score_))"
   ]
  },
  {
   "cell_type": "code",
   "execution_count": 56,
   "metadata": {},
   "outputs": [
    {
     "name": "stdout",
     "output_type": "stream",
     "text": [
      "Training set score: 0.997\n",
      "Test set score: 0.615\n"
     ]
    }
   ],
   "source": [
    "# %load 59\n",
    "tree = DecisionTreeClassifier(random_state=0).fit(X_train,y_train)\n",
    "\n",
    "print(\"Training set score: {:.3f}\".format(tree.score(X_train,y_train)))\n",
    "print(\"Test set score: {:.3f}\".format(tree.score(X_test,y_test)))"
   ]
  },
  {
   "cell_type": "code",
   "execution_count": 57,
   "metadata": {},
   "outputs": [
    {
     "name": "stdout",
     "output_type": "stream",
     "text": [
      "Training set score: 0.737\n",
      "Test set score: 0.669\n"
     ]
    }
   ],
   "source": [
    "# %load 65\n",
    "tree_reg1 = DecisionTreeClassifier(max_depth=6, random_state=0).fit(X_train,y_train)\n",
    "\n",
    "print(\"Training set score: {:.3f}\".format(tree_reg1.score(X_train,y_train)))\n",
    "print(\"Test set score: {:.3f}\".format(tree_reg1.score(X_test,y_test)))"
   ]
  },
  {
   "cell_type": "code",
   "execution_count": 58,
   "metadata": {},
   "outputs": [
    {
     "name": "stdout",
     "output_type": "stream",
     "text": [
      "Training set score: 0.700\n",
      "Test set score: 0.660\n"
     ]
    }
   ],
   "source": [
    "# %load 79\n",
    "tree_reg2 = DecisionTreeClassifier(min_samples_leaf=70, random_state=0).fit(X_train,y_train)\n",
    "\n",
    "print(\"Training set score: {:.3f}\".format(tree_reg2.score(X_train,y_train)))\n",
    "print(\"Test set score: {:.3f}\".format(tree_reg2.score(X_test,y_test)))"
   ]
  },
  {
   "cell_type": "markdown",
   "metadata": {},
   "source": [
    "Out of the models tested so far, the Decision Tree with a max_depth of 6 performs the best.  However, these models didn't take into account the Distribution of Scores for Player 1 and Player 2 did not have the same trend.  To combat this issue, my idea is to modify the training data such that Player 1 always has the higher score.  Let's do that and build another model."
   ]
  },
  {
   "cell_type": "code",
   "execution_count": 59,
   "metadata": {},
   "outputs": [],
   "source": [
    "def create_modified_dataframe(df):\n",
    "    #This function reads the Player DataFrame with columns ['player1_skill','player2_skill','player1_wins']\n",
    "    #It modifies the DataFrame and returns a new DataFrame where player1_skill is always >= player2_skill\n",
    "    \n",
    "    df2 = df.copy()\n",
    "    \n",
    "    for index, row in df2.iterrows():\n",
    "        if row['player1_skill'] >= row['player2_skill']:\n",
    "            pass\n",
    "        else:\n",
    "            player1_skill = row['player1_skill'] \n",
    "            row['player1_skill'] = row['player2_skill']\n",
    "            row['player2_skill'] = player1_skill\n",
    "            if row['player1_wins'] == 1:\n",
    "                row['player1_wins'] = 0\n",
    "            else:\n",
    "                row['player1_wins'] = 1\n",
    "            df2.loc[index,'player1_skill'] = row['player1_skill']\n",
    "            df2.loc[index,'player2_skill'] = row['player2_skill']\n",
    "            df2.loc[index,'player1_wins'] = row['player1_wins']\n",
    "        \n",
    "    return df2"
   ]
  },
  {
   "cell_type": "markdown",
   "metadata": {},
   "source": [
    "Let's first test create_modified_dataframe() by building a dummy dataframe and passing it to this function."
   ]
  },
  {
   "cell_type": "code",
   "execution_count": 60,
   "metadata": {},
   "outputs": [
    {
     "data": {
      "text/html": [
       "<div>\n",
       "<style scoped>\n",
       "    .dataframe tbody tr th:only-of-type {\n",
       "        vertical-align: middle;\n",
       "    }\n",
       "\n",
       "    .dataframe tbody tr th {\n",
       "        vertical-align: top;\n",
       "    }\n",
       "\n",
       "    .dataframe thead th {\n",
       "        text-align: right;\n",
       "    }\n",
       "</style>\n",
       "<table border=\"1\" class=\"dataframe\">\n",
       "  <thead>\n",
       "    <tr style=\"text-align: right;\">\n",
       "      <th></th>\n",
       "      <th>player1_skill</th>\n",
       "      <th>player2_skill</th>\n",
       "      <th>player1_wins</th>\n",
       "    </tr>\n",
       "  </thead>\n",
       "  <tbody>\n",
       "    <tr>\n",
       "      <th>0</th>\n",
       "      <td>150</td>\n",
       "      <td>140</td>\n",
       "      <td>1</td>\n",
       "    </tr>\n",
       "    <tr>\n",
       "      <th>1</th>\n",
       "      <td>175</td>\n",
       "      <td>185</td>\n",
       "      <td>1</td>\n",
       "    </tr>\n",
       "    <tr>\n",
       "      <th>2</th>\n",
       "      <td>200</td>\n",
       "      <td>190</td>\n",
       "      <td>0</td>\n",
       "    </tr>\n",
       "    <tr>\n",
       "      <th>3</th>\n",
       "      <td>225</td>\n",
       "      <td>230</td>\n",
       "      <td>0</td>\n",
       "    </tr>\n",
       "  </tbody>\n",
       "</table>\n",
       "</div>"
      ],
      "text/plain": [
       "   player1_skill  player2_skill  player1_wins\n",
       "0            150            140             1\n",
       "1            175            185             1\n",
       "2            200            190             0\n",
       "3            225            230             0"
      ]
     },
     "execution_count": 60,
     "metadata": {},
     "output_type": "execute_result"
    }
   ],
   "source": [
    "dummy_df = pd.DataFrame({'player1_skill':[150,175,200,225], 'player2_skill':[140,185,190,230], 'player1_wins':[1,1,0,0]})\n",
    "dummy_df"
   ]
  },
  {
   "cell_type": "code",
   "execution_count": 61,
   "metadata": {},
   "outputs": [
    {
     "data": {
      "text/html": [
       "<div>\n",
       "<style scoped>\n",
       "    .dataframe tbody tr th:only-of-type {\n",
       "        vertical-align: middle;\n",
       "    }\n",
       "\n",
       "    .dataframe tbody tr th {\n",
       "        vertical-align: top;\n",
       "    }\n",
       "\n",
       "    .dataframe thead th {\n",
       "        text-align: right;\n",
       "    }\n",
       "</style>\n",
       "<table border=\"1\" class=\"dataframe\">\n",
       "  <thead>\n",
       "    <tr style=\"text-align: right;\">\n",
       "      <th></th>\n",
       "      <th>player1_skill</th>\n",
       "      <th>player2_skill</th>\n",
       "      <th>player1_wins</th>\n",
       "    </tr>\n",
       "  </thead>\n",
       "  <tbody>\n",
       "    <tr>\n",
       "      <th>0</th>\n",
       "      <td>150</td>\n",
       "      <td>140</td>\n",
       "      <td>1</td>\n",
       "    </tr>\n",
       "    <tr>\n",
       "      <th>1</th>\n",
       "      <td>185</td>\n",
       "      <td>175</td>\n",
       "      <td>0</td>\n",
       "    </tr>\n",
       "    <tr>\n",
       "      <th>2</th>\n",
       "      <td>200</td>\n",
       "      <td>190</td>\n",
       "      <td>0</td>\n",
       "    </tr>\n",
       "    <tr>\n",
       "      <th>3</th>\n",
       "      <td>230</td>\n",
       "      <td>225</td>\n",
       "      <td>1</td>\n",
       "    </tr>\n",
       "  </tbody>\n",
       "</table>\n",
       "</div>"
      ],
      "text/plain": [
       "   player1_skill  player2_skill  player1_wins\n",
       "0            150            140             1\n",
       "1            185            175             0\n",
       "2            200            190             0\n",
       "3            230            225             1"
      ]
     },
     "execution_count": 61,
     "metadata": {},
     "output_type": "execute_result"
    }
   ],
   "source": [
    "dummy_df2 = create_modified_dataframe(dummy_df)\n",
    "dummy_df2"
   ]
  },
  {
   "cell_type": "markdown",
   "metadata": {},
   "source": [
    "The function does operate as we would expect.  Let's pass the real dataframe to this function."
   ]
  },
  {
   "cell_type": "code",
   "execution_count": 62,
   "metadata": {},
   "outputs": [],
   "source": [
    "# %load 55\n",
    "player_df2_small = player_df2.loc[:,['player1_skill','player2_skill','player1_wins']]\n",
    "player_df3_small = create_modified_dataframe(player_df2_small)"
   ]
  },
  {
   "cell_type": "code",
   "execution_count": 63,
   "metadata": {},
   "outputs": [
    {
     "data": {
      "text/html": [
       "<div>\n",
       "<style scoped>\n",
       "    .dataframe tbody tr th:only-of-type {\n",
       "        vertical-align: middle;\n",
       "    }\n",
       "\n",
       "    .dataframe tbody tr th {\n",
       "        vertical-align: top;\n",
       "    }\n",
       "\n",
       "    .dataframe thead th {\n",
       "        text-align: right;\n",
       "    }\n",
       "</style>\n",
       "<table border=\"1\" class=\"dataframe\">\n",
       "  <thead>\n",
       "    <tr style=\"text-align: right;\">\n",
       "      <th></th>\n",
       "      <th>player1_skill</th>\n",
       "      <th>player2_skill</th>\n",
       "      <th>player1_wins</th>\n",
       "    </tr>\n",
       "  </thead>\n",
       "  <tbody>\n",
       "    <tr>\n",
       "      <th>0</th>\n",
       "      <td>178.8</td>\n",
       "      <td>128.0</td>\n",
       "      <td>0.0</td>\n",
       "    </tr>\n",
       "    <tr>\n",
       "      <th>1</th>\n",
       "      <td>182.6</td>\n",
       "      <td>148.0</td>\n",
       "      <td>0.0</td>\n",
       "    </tr>\n",
       "    <tr>\n",
       "      <th>2</th>\n",
       "      <td>210.4</td>\n",
       "      <td>148.0</td>\n",
       "      <td>1.0</td>\n",
       "    </tr>\n",
       "    <tr>\n",
       "      <th>3</th>\n",
       "      <td>207.6</td>\n",
       "      <td>168.0</td>\n",
       "      <td>1.0</td>\n",
       "    </tr>\n",
       "    <tr>\n",
       "      <th>4</th>\n",
       "      <td>288.6</td>\n",
       "      <td>231.4</td>\n",
       "      <td>0.0</td>\n",
       "    </tr>\n",
       "  </tbody>\n",
       "</table>\n",
       "</div>"
      ],
      "text/plain": [
       "   player1_skill  player2_skill  player1_wins\n",
       "0          178.8          128.0           0.0\n",
       "1          182.6          148.0           0.0\n",
       "2          210.4          148.0           1.0\n",
       "3          207.6          168.0           1.0\n",
       "4          288.6          231.4           0.0"
      ]
     },
     "execution_count": 63,
     "metadata": {},
     "output_type": "execute_result"
    }
   ],
   "source": [
    "player_df3_small.head()"
   ]
  },
  {
   "cell_type": "code",
   "execution_count": 64,
   "metadata": {},
   "outputs": [],
   "source": [
    "# %load 56-62\n",
    "y = player_df3_small['player1_wins']\n",
    "X = player_df3_small.drop('player1_wins',axis=1)"
   ]
  },
  {
   "cell_type": "code",
   "execution_count": 65,
   "metadata": {},
   "outputs": [],
   "source": [
    "X_train, X_test, y_train, y_test = train_test_split(X,y,test_size=.25,random_state=1)\n",
    "logreg = LogisticRegression().fit(X_train,y_train)"
   ]
  },
  {
   "cell_type": "code",
   "execution_count": 66,
   "metadata": {},
   "outputs": [
    {
     "name": "stdout",
     "output_type": "stream",
     "text": [
      "Training set score: 0.685\n",
      "Test set score: 0.663\n"
     ]
    }
   ],
   "source": [
    "print(\"Training set score: {:.3f}\".format(logreg.score(X_train,y_train)))\n",
    "print(\"Test set score: {:.3f}\".format(logreg.score(X_test,y_test)))"
   ]
  },
  {
   "cell_type": "code",
   "execution_count": 67,
   "metadata": {},
   "outputs": [
    {
     "name": "stdout",
     "output_type": "stream",
     "text": [
      "Test set score: 0.663\n",
      "Best parameters: {'C': 0.001}\n",
      "Best cross-validation score: 0.687\n"
     ]
    }
   ],
   "source": [
    "param_grid = {'C':[0.001, 0.01, 0.1, 1, 10, 100]}\n",
    "grid_search = GridSearchCV(LogisticRegression(),param_grid,cv=5)\n",
    "grid_search.fit(X_train,y_train)\n",
    "\n",
    "print(\"Test set score: {:.3f}\".format(grid_search.score(X_test,y_test)))\n",
    "print(\"Best parameters: {}\".format(grid_search.best_params_))\n",
    "print(\"Best cross-validation score: {:.3f}\".format(grid_search.best_score_))"
   ]
  },
  {
   "cell_type": "markdown",
   "metadata": {},
   "source": [
    "There is really no improvement in performance with the updated model.  However, I think our predictions will be better with this model, because our model shouldn't be biased towards who is specified as player 1 versus player 2."
   ]
  },
  {
   "cell_type": "markdown",
   "metadata": {},
   "source": [
    "Just like before, let's add in a new feature which is the difference in the scores between player1 and player2."
   ]
  },
  {
   "cell_type": "code",
   "execution_count": 68,
   "metadata": {},
   "outputs": [
    {
     "data": {
      "text/html": [
       "<div>\n",
       "<style scoped>\n",
       "    .dataframe tbody tr th:only-of-type {\n",
       "        vertical-align: middle;\n",
       "    }\n",
       "\n",
       "    .dataframe tbody tr th {\n",
       "        vertical-align: top;\n",
       "    }\n",
       "\n",
       "    .dataframe thead th {\n",
       "        text-align: right;\n",
       "    }\n",
       "</style>\n",
       "<table border=\"1\" class=\"dataframe\">\n",
       "  <thead>\n",
       "    <tr style=\"text-align: right;\">\n",
       "      <th></th>\n",
       "      <th>player1_skill</th>\n",
       "      <th>player2_skill</th>\n",
       "      <th>player1_wins</th>\n",
       "      <th>skill_diff</th>\n",
       "    </tr>\n",
       "  </thead>\n",
       "  <tbody>\n",
       "    <tr>\n",
       "      <th>0</th>\n",
       "      <td>178.8</td>\n",
       "      <td>128.0</td>\n",
       "      <td>0.0</td>\n",
       "      <td>50.8</td>\n",
       "    </tr>\n",
       "    <tr>\n",
       "      <th>1</th>\n",
       "      <td>182.6</td>\n",
       "      <td>148.0</td>\n",
       "      <td>0.0</td>\n",
       "      <td>34.6</td>\n",
       "    </tr>\n",
       "    <tr>\n",
       "      <th>2</th>\n",
       "      <td>210.4</td>\n",
       "      <td>148.0</td>\n",
       "      <td>1.0</td>\n",
       "      <td>62.4</td>\n",
       "    </tr>\n",
       "    <tr>\n",
       "      <th>3</th>\n",
       "      <td>207.6</td>\n",
       "      <td>168.0</td>\n",
       "      <td>1.0</td>\n",
       "      <td>39.6</td>\n",
       "    </tr>\n",
       "    <tr>\n",
       "      <th>4</th>\n",
       "      <td>288.6</td>\n",
       "      <td>231.4</td>\n",
       "      <td>0.0</td>\n",
       "      <td>57.2</td>\n",
       "    </tr>\n",
       "  </tbody>\n",
       "</table>\n",
       "</div>"
      ],
      "text/plain": [
       "   player1_skill  player2_skill  player1_wins  skill_diff\n",
       "0          178.8          128.0           0.0        50.8\n",
       "1          182.6          148.0           0.0        34.6\n",
       "2          210.4          148.0           1.0        62.4\n",
       "3          207.6          168.0           1.0        39.6\n",
       "4          288.6          231.4           0.0        57.2"
      ]
     },
     "execution_count": 68,
     "metadata": {},
     "output_type": "execute_result"
    }
   ],
   "source": [
    "# %load 75-76\n",
    "player_df3_small['skill_diff'] = player_df3_small.apply(skill_diff,axis=1)\n",
    "player_df3_small.head()"
   ]
  },
  {
   "cell_type": "code",
   "execution_count": 69,
   "metadata": {},
   "outputs": [],
   "source": [
    "# %load 77\n",
    "y = player_df3_small['player1_wins']\n",
    "X = player_df3_small.drop('player1_wins',axis=1)\n",
    "\n",
    "X_train, X_test, y_train, y_test = train_test_split(X,y,test_size=.25,random_state=1)"
   ]
  },
  {
   "cell_type": "code",
   "execution_count": 70,
   "metadata": {},
   "outputs": [
    {
     "name": "stdout",
     "output_type": "stream",
     "text": [
      "Training set score: 0.685\n",
      "Test set score: 0.663\n"
     ]
    }
   ],
   "source": [
    "# %load 78\n",
    "logreg = LogisticRegression().fit(X_train,y_train)\n",
    "    \n",
    "print(\"Training set score: {:.3f}\".format(logreg.score(X_train,y_train)))\n",
    "print(\"Test set score: {:.3f}\".format(logreg.score(X_test,y_test)))"
   ]
  },
  {
   "cell_type": "code",
   "execution_count": 71,
   "metadata": {},
   "outputs": [
    {
     "name": "stdout",
     "output_type": "stream",
     "text": [
      "Test set score: 0.663\n",
      "Best parameters: {'C': 0.001}\n",
      "Best cross-validation score: 0.685\n"
     ]
    }
   ],
   "source": [
    "# %load 79\n",
    "param_grid = {'C':[0.001, 0.01, 0.1, 1, 10, 100]}\n",
    "grid_search = GridSearchCV(LogisticRegression(),param_grid,cv=5)\n",
    "grid_search.fit(X_train,y_train)\n",
    "print(\"Test set score: {:.3f}\".format(grid_search.score(X_test,y_test)))\n",
    "print(\"Best parameters: {}\".format(grid_search.best_params_))\n",
    "print(\"Best cross-validation score: {:.3f}\".format(grid_search.best_score_))"
   ]
  },
  {
   "cell_type": "code",
   "execution_count": 72,
   "metadata": {},
   "outputs": [
    {
     "name": "stdout",
     "output_type": "stream",
     "text": [
      "Test set score: 0.658\n",
      "Best parameters: {'n_neighbors': 130}\n",
      "Best cross-validation score: 0.686\n"
     ]
    }
   ],
   "source": [
    "param_grid = {'n_neighbors':[5,10,30,50,100,130,150,200]}\n",
    "grid_search = GridSearchCV(KNeighborsClassifier(),param_grid,cv=5)\n",
    "grid_search.fit(X_train,y_train)\n",
    "print(\"Test set score: {:.3f}\".format(grid_search.score(X_test,y_test)))\n",
    "print(\"Best parameters: {}\".format(grid_search.best_params_))\n",
    "print(\"Best cross-validation score: {:.3f}\".format(grid_search.best_score_))"
   ]
  },
  {
   "cell_type": "code",
   "execution_count": 73,
   "metadata": {},
   "outputs": [
    {
     "name": "stdout",
     "output_type": "stream",
     "text": [
      "Test set score: 0.644\n",
      "Best parameters: {'max_depth': 3}\n",
      "Best cross-validation score: 0.668\n"
     ]
    }
   ],
   "source": [
    "# %load 81\n",
    "param_grid = {'max_depth':[3,4,5,6,7]}\n",
    "grid_search = GridSearchCV(DecisionTreeClassifier(),param_grid,cv=5)\n",
    "grid_search.fit(X_train,y_train)\n",
    "print(\"Test set score: {:.3f}\".format(grid_search.score(X_test,y_test)))\n",
    "print(\"Best parameters: {}\".format(grid_search.best_params_))\n",
    "print(\"Best cross-validation score: {:.3f}\".format(grid_search.best_score_))"
   ]
  },
  {
   "cell_type": "markdown",
   "metadata": {},
   "source": [
    "It looks like logistic regression with a regularization parameter of 'C'=0.001 performs the best.  Let's save that model and do some predictions on it."
   ]
  },
  {
   "cell_type": "code",
   "execution_count": 74,
   "metadata": {},
   "outputs": [
    {
     "name": "stdout",
     "output_type": "stream",
     "text": [
      "Training set score: 0.685\n",
      "Test set score: 0.663\n"
     ]
    }
   ],
   "source": [
    "logreg = LogisticRegression(C=0.001).fit(X_train,y_train)\n",
    "    \n",
    "print(\"Training set score: {:.3f}\".format(logreg.score(X_train,y_train)))\n",
    "print(\"Test set score: {:.3f}\".format(logreg.score(X_test,y_test)))"
   ]
  },
  {
   "cell_type": "code",
   "execution_count": 75,
   "metadata": {},
   "outputs": [],
   "source": [
    "import joblib"
   ]
  },
  {
   "cell_type": "code",
   "execution_count": 76,
   "metadata": {},
   "outputs": [
    {
     "data": {
      "text/plain": [
       "['finalized_model.pkl']"
      ]
     },
     "execution_count": 76,
     "metadata": {},
     "output_type": "execute_result"
    }
   ],
   "source": [
    "filename = 'finalized_model.pkl'\n",
    "joblib.dump(logreg, filename)"
   ]
  },
  {
   "cell_type": "code",
   "execution_count": 77,
   "metadata": {},
   "outputs": [
    {
     "name": "stdout",
     "output_type": "stream",
     "text": [
      "The probability that Arpad will beat Mark is: 0.5746895104028755\n"
     ]
    }
   ],
   "source": [
    "# %load takehome_test.py\n",
    "'''\n",
    "Consider a set of players in a game, where each player has a name and a skill level.\n",
    "A player's skill level is a number representing how skilled they are at the\n",
    "game, where higher numbers are better. More specifically, when two players play\n",
    "against each other, the difference in skill level between the two players tells\n",
    "us information about what the outcome may be. The further apart the two players'\n",
    "skill levels are, the more likely it is that the higher skill player will win.\n",
    "'''\n",
    "class Player:\n",
    "    def __init__(self, name, skill):\n",
    "        self.name = name\n",
    "        self.skill = skill\n",
    "\n",
    "\n",
    "'''\n",
    "We would like to predict the outcome of a match between two players, given\n",
    "their respective skill levels. Specifically, how do we estimate the probability that\n",
    "player 1 will win?\n",
    "You have access to a sample dataset you can use for testing: dataset.csv, a csv\n",
    "file of matches that previously occurred. It contains the following five columns:\n",
    "    * player1_id: an integer ID that uniquely identifies player 1\n",
    "    * player2_id: an integer ID that uniquely identifies player 2\n",
    "    * player1_skill: player 1's skill level\n",
    "    * player2_skill: player 2's skill level\n",
    "    * winner_id: the ID of the winning player\n",
    "* Part 1 * \n",
    "Submit a jupyter notebook exploring the data, outlining the logic of approach,\n",
    "and evaluating and interpreting results. \n",
    "* Part 2 *\n",
    "Write a function that takes the following inputs:\n",
    "    * Player 1 Player Object\n",
    "    * Player 2 Player Object\n",
    "The function should return an estimate of the probability that\n",
    "player 1 will win.\n",
    "You are allowed to import commonly used statistics and data analysis libraries.\n",
    "You may also use any online resources you want.\n",
    "'''\n",
    "\n",
    "def predict_outcome(player1, player2):\n",
    "    \"\"\"\n",
    "    features = ['win_fraction_differential', 'lesser_skilled_win_fraction',\n",
    "       'more_skilled_win_fraction', 'more_skilled_past_wins',\n",
    "       'lesser_skilled_past_losses', 'lesser_skilled_past_wins',\n",
    "       'more_skilled_past_losses']\n",
    "    \"\"\"\n",
    "    import joblib\n",
    "    import numpy as np\n",
    "    \n",
    "    logreg_model = joblib.load('finalized_model.pkl')\n",
    "    \n",
    "    if player1.skill>=player2.skill:  # if player1 skill >= player2 skill then we can pass it to the model as is\n",
    "        X = np.array([player1.skill, player2.skill, player1.skill-player2.skill]).reshape(1,-1)\n",
    "        pred = logreg_model.predict_proba(X)\n",
    "    else: #if player1 skill < player2 skill, then we need to swap the two players\n",
    "        X = np.array([player2.skill, player1.skill, player2.skill-player1.skill]).reshape(1,-1)\n",
    "        pred = 1 - logreg_model.predict_proba(X) # We take 1 - probability(player2 beats player1)\n",
    "    return pred[0,1]\n",
    "    \n",
    "    # fill in the body of this function\n",
    "\n",
    "\n",
    "# example usage:\n",
    "arpad = Player('Arpad', 365)\n",
    "mark = Player('Mark', 341)\n",
    "\n",
    "result = predict_outcome(arpad, mark)\n",
    "print('The probability that Arpad will beat Mark is:', result)\n"
   ]
  },
  {
   "cell_type": "code",
   "execution_count": 78,
   "metadata": {},
   "outputs": [
    {
     "name": "stdout",
     "output_type": "stream",
     "text": [
      "The probability that Ben will be Jon is: 0.32606371907299636\n"
     ]
    }
   ],
   "source": [
    "ben = Player('Ben', 250)\n",
    "jon = Player('Jon', 300)\n",
    "\n",
    "result = predict_outcome(ben, jon)\n",
    "print('The probability that Ben will be Jon is:', result)"
   ]
  },
  {
   "cell_type": "markdown",
   "metadata": {},
   "source": [
    "The above results make sense, since Arpad has higher skill than Mark and therefore P(Apad beats Mark) > 0.5.\n",
    "Ben has a lower skill than Jon, therefore P(Ben beats Jon) < 0.5."
   ]
  },
  {
   "cell_type": "code",
   "execution_count": null,
   "metadata": {},
   "outputs": [],
   "source": []
  }
 ],
 "metadata": {
  "kernelspec": {
   "display_name": "Python 3",
   "language": "python",
   "name": "python3"
  },
  "language_info": {
   "codemirror_mode": {
    "name": "ipython",
    "version": 3
   },
   "file_extension": ".py",
   "mimetype": "text/x-python",
   "name": "python",
   "nbconvert_exporter": "python",
   "pygments_lexer": "ipython3",
   "version": "3.8.5"
  }
 },
 "nbformat": 4,
 "nbformat_minor": 4
}
